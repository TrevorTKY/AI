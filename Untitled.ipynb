{
 "cells": [
  {
   "cell_type": "code",
   "execution_count": 202,
   "id": "e911f069-2f33-4035-b459-a0fe671a9513",
   "metadata": {},
   "outputs": [
    {
     "name": "stdout",
     "output_type": "stream",
     "text": [
      "Requirement already satisfied: scikit-learn in c:\\users\\taruc\\anaconda3\\lib\\site-packages (1.4.2)Note: you may need to restart the kernel to use updated packages.\n",
      "\n",
      "Requirement already satisfied: numpy>=1.19.5 in c:\\users\\taruc\\anaconda3\\lib\\site-packages (from scikit-learn) (1.26.4)\n",
      "Requirement already satisfied: scipy>=1.6.0 in c:\\users\\taruc\\anaconda3\\lib\\site-packages (from scikit-learn) (1.13.1)\n",
      "Requirement already satisfied: joblib>=1.2.0 in c:\\users\\taruc\\anaconda3\\lib\\site-packages (from scikit-learn) (1.4.2)\n",
      "Requirement already satisfied: threadpoolctl>=2.0.0 in c:\\users\\taruc\\anaconda3\\lib\\site-packages (from scikit-learn) (2.2.0)\n"
     ]
    }
   ],
   "source": [
    "pip install scikit-learn"
   ]
  },
  {
   "cell_type": "markdown",
   "id": "e387ff2e-abce-43a4-b0de-5c0a4a8e6bac",
   "metadata": {},
   "source": [
    "Step 1: Prepare the data"
   ]
  },
  {
   "cell_type": "code",
   "execution_count": 183,
   "id": "b5431390-ab76-460f-a4b7-7589347dca07",
   "metadata": {},
   "outputs": [
    {
     "name": "stdout",
     "output_type": "stream",
     "text": [
      "   Age Sex ChestPainType  RestingBP  Cholesterol  FastingBS RestingECG  MaxHR  \\\n",
      "0   40   M           ATA        140          289          0     Normal    172   \n",
      "1   49   F           NAP        160          180          0     Normal    156   \n",
      "2   37   M           ATA        130          283          0         ST     98   \n",
      "3   48   F           ASY        138          214          0     Normal    108   \n",
      "4   54   M           NAP        150          195          0     Normal    122   \n",
      "\n",
      "  ExerciseAngina  Oldpeak ST_Slope  HeartDisease  \n",
      "0              N      0.0       Up             0  \n",
      "1              N      1.0     Flat             1  \n",
      "2              N      0.0       Up             0  \n",
      "3              Y      1.5     Flat             1  \n",
      "4              N      0.0       Up             0  \n"
     ]
    }
   ],
   "source": [
    "# Import necessary libraries\n",
    "import numpy as np\n",
    "import pandas as pd\n",
    "import seaborn as sns\n",
    "import matplotlib.pyplot as plt\n",
    "from sklearn.neighbors import KNeighborsClassifier\n",
    "from sklearn.svm import SVC\n",
    "from sklearn.neural_network import MLPClassifier\n",
    "from sklearn.preprocessing import StandardScaler, LabelEncoder\n",
    "from sklearn.model_selection import train_test_split, cross_val_score, GridSearchCV\n",
    "from sklearn.metrics import accuracy_score, classification_report, confusion_matrix, precision_score, recall_score, roc_auc_score\n",
    "from imblearn.over_sampling import SMOTE\n",
    "import joblib\n",
    "import streamlit as st\n",
    "\n",
    "# Load the heart dataset\n",
    "data = pd.read_csv('heart.csv')\n",
    "\n",
    "# Clean column names by stripping any leading/trailing spaces\n",
    "data.columns = data.columns.str.strip()\n",
    "\n",
    "# Print first 5 rows of the dataset\n",
    "print(data.head())\n"
   ]
  },
  {
   "cell_type": "code",
   "execution_count": null,
   "id": "40416d18-086a-400e-9285-c913b19f10df",
   "metadata": {},
   "outputs": [],
   "source": [
    "Step 2 and 3 : Feature Extraction and Split the Data"
   ]
  },
  {
   "cell_type": "code",
   "execution_count": 184,
   "id": "0b371c09-0c99-4f42-b9b5-3761810fc245",
   "metadata": {},
   "outputs": [],
   "source": [
    "# Select features that might impact heart disease\n",
    "features = ['Age', 'RestingBP', 'Cholesterol', 'MaxHR', 'RestingECG']\n",
    "X = data[features].copy()\n",
    "y = data['HeartDisease'].values\n",
    "\n",
    "# Encode the categorical feature 'RestingECG' using LabelEncoder\n",
    "label_encoder = LabelEncoder()\n",
    "X['RestingECG'] = label_encoder.fit_transform(X['RestingECG'])\n",
    "\n",
    "# Data Scaling\n",
    "scaler = StandardScaler()\n",
    "X_scaled = scaler.fit_transform(X)\n",
    "\n",
    "# Handle class imbalance using SMOTE\n",
    "smote = SMOTE(random_state=2)\n",
    "X_balanced, y_balanced = smote.fit_resample(X_scaled, y)\n",
    "\n",
    "# Split the data into training and test sets\n",
    "X_train, X_test, y_train, y_test = train_test_split(X_balanced, y_balanced, test_size=0.2, random_state=2)\n"
   ]
  },
  {
   "cell_type": "markdown",
   "id": "03f93a91-dda6-4ec4-8b38-ef5d2ee23069",
   "metadata": {},
   "source": [
    "Step 4: Fit Model and Predict Outcomes"
   ]
  },
  {
   "cell_type": "code",
   "execution_count": 185,
   "id": "f4a2cb17-5fd2-4885-aaba-97f942747472",
   "metadata": {},
   "outputs": [],
   "source": [
    "\n",
    "# Initialize models\n",
    "knn = KNeighborsClassifier()\n",
    "ann = MLPClassifier(max_iter=2000, random_state=2)\n",
    "svm = SVC(probability=True)\n",
    "\n"
   ]
  },
  {
   "cell_type": "code",
   "execution_count": null,
   "id": "dd405a0e-08bf-45b6-a409-709355a0ba79",
   "metadata": {},
   "outputs": [],
   "source": [
    "Step 5: Train and Evaluate the Model"
   ]
  },
  {
   "cell_type": "code",
   "execution_count": 186,
   "id": "a54e1c03-a11e-4d8a-9aab-d9e9372c355b",
   "metadata": {},
   "outputs": [
    {
     "name": "stdout",
     "output_type": "stream",
     "text": [
      "Best Parameters for KNN: {'n_neighbors': 7}\n",
      "\n",
      "KNN Accuracy: 0.74\n",
      "\n",
      "KNN Classification Report:\n",
      "              precision    recall  f1-score   support\n",
      "\n",
      "           0       0.77      0.72      0.74       107\n",
      "           1       0.71      0.76      0.74        97\n",
      "\n",
      "    accuracy                           0.74       204\n",
      "   macro avg       0.74      0.74      0.74       204\n",
      "weighted avg       0.74      0.74      0.74       204\n",
      "\n",
      "\n",
      "KNN Confusion Matrix:\n",
      "[[77 30]\n",
      " [23 74]]\n"
     ]
    },
    {
     "data": {
      "image/png": "[encoded data removed]",
      "text/plain": [
       "<Figure size 500x400 with 2 Axes>"
      ]
     },
     "metadata": {},
     "output_type": "display_data"
    },
    {
     "name": "stdout",
     "output_type": "stream",
     "text": [
      "KNN ROC-AUC Score: 0.79\n",
      "KNN Cross-validation Accuracy: 0.69\n",
      "Best Parameters for ANN: {'activation': 'relu', 'hidden_layer_sizes': (20,), 'solver': 'adam'}\n",
      "\n",
      "ANN Accuracy: 0.74\n",
      "\n",
      "ANN Classification Report:\n",
      "              precision    recall  f1-score   support\n",
      "\n",
      "           0       0.75      0.77      0.76       107\n",
      "           1       0.73      0.71      0.72        97\n",
      "\n",
      "    accuracy                           0.74       204\n",
      "   macro avg       0.74      0.74      0.74       204\n",
      "weighted avg       0.74      0.74      0.74       204\n",
      "\n",
      "\n",
      "ANN Confusion Matrix:\n",
      "[[82 25]\n",
      " [28 69]]\n"
     ]
    },
    {
     "data": {
      "image/png": "[encoded data removed]",
      "text/plain": [
       "<Figure size 500x400 with 2 Axes>"
      ]
     },
     "metadata": {},
     "output_type": "display_data"
    },
    {
     "name": "stdout",
     "output_type": "stream",
     "text": [
      "ANN ROC-AUC Score: 0.82\n",
      "ANN Cross-validation Accuracy: 0.66\n",
      "Best Parameters for SVM: {'C': 0.1, 'kernel': 'rbf'}\n",
      "\n",
      "SVM Accuracy: 0.75\n",
      "\n",
      "SVM Classification Report:\n",
      "              precision    recall  f1-score   support\n",
      "\n",
      "           0       0.79      0.71      0.75       107\n",
      "           1       0.71      0.79      0.75        97\n",
      "\n",
      "    accuracy                           0.75       204\n",
      "   macro avg       0.75      0.75      0.75       204\n",
      "weighted avg       0.75      0.75      0.75       204\n",
      "\n",
      "\n",
      "SVM Confusion Matrix:\n",
      "[[76 31]\n",
      " [20 77]]\n"
     ]
    },
    {
     "data": {
      "image/png": "[encoded data removed]",
      "text/plain": [
       "<Figure size 500x400 with 2 Axes>"
      ]
     },
     "metadata": {},
     "output_type": "display_data"
    },
    {
     "name": "stdout",
     "output_type": "stream",
     "text": [
      "SVM ROC-AUC Score: 0.84\n",
      "SVM Cross-validation Accuracy: 0.69\n"
     ]
    }
   ],
   "source": [
    "# Define a function to train and evaluate each model with hyperparameter tuning\n",
    "def train_and_evaluate_model(model, model_name, param_grid=None):\n",
    "    if param_grid:\n",
    "        grid_search = GridSearchCV(model, param_grid, cv=5, scoring='accuracy', n_jobs=-1)\n",
    "        grid_search.fit(X_train, y_train)\n",
    "        model = grid_search.best_estimator_\n",
    "        print(f\"Best Parameters for {model_name}: {grid_search.best_params_}\")\n",
    "    else:\n",
    "        model.fit(X_train, y_train)\n",
    "    \n",
    "    # Predict on the test set\n",
    "    y_pred = model.predict(X_test)\n",
    "    y_prob = model.predict_proba(X_test)[:, 1]\n",
    "    \n",
    "    # Print evaluation metrics\n",
    "    accuracy = accuracy_score(y_test, y_pred)\n",
    "    print(f\"\\n{model_name} Accuracy: {accuracy:.2f}\")\n",
    "    \n",
    "    print(f\"\\n{model_name} Classification Report:\")\n",
    "    print(classification_report(y_test, y_pred, zero_division=1))\n",
    "    \n",
    "    print(f\"\\n{model_name} Confusion Matrix:\")\n",
    "    print(confusion_matrix(y_test, y_pred))\n",
    "    \n",
    "    plt.figure(figsize=(5,4))\n",
    "    sns.heatmap(confusion_matrix(y_test, y_pred), annot=True, fmt='d', cmap='Blues')\n",
    "    plt.title(f'{model_name} Confusion Matrix')\n",
    "    plt.ylabel('Actual')\n",
    "    plt.xlabel('Predicted')\n",
    "    plt.show()\n",
    "    \n",
    "    # ROC-AUC Score\n",
    "    roc_auc = roc_auc_score(y_test, y_prob)\n",
    "    print(f\"{model_name} ROC-AUC Score: {roc_auc:.2f}\")\n",
    "    \n",
    "    # Cross-validation for more reliable metrics\n",
    "    cross_val_scores = cross_val_score(model, X_balanced, y_balanced, cv=5, scoring='accuracy')\n",
    "    print(f\"{model_name} Cross-validation Accuracy: {np.mean(cross_val_scores):.2f}\")\n",
    "\n",
    "    # Save the trained model\n",
    "    joblib.dump(model, f'{model_name}.pkl')\n",
    "\n",
    "# Train and evaluate models\n",
    "knn_param_grid = {'n_neighbors': [3, 5, 7, 9]}\n",
    "train_and_evaluate_model(knn, \"KNN\", param_grid=knn_param_grid)\n",
    "\n",
    "ann_param_grid = {\n",
    "    'hidden_layer_sizes': [(10,), (20,), (10, 10), (20, 20)],\n",
    "    'activation': ['tanh', 'relu'],\n",
    "    'solver': ['adam', 'sgd']\n",
    "}\n",
    "train_and_evaluate_model(ann, \"ANN\", param_grid=ann_param_grid)\n",
    "\n",
    "svm_param_grid = {\n",
    "    'kernel': ['linear', 'rbf'],\n",
    "    'C': [0.1, 1, 10]\n",
    "}\n",
    "train_and_evaluate_model(svm, \"SVM\", param_grid=svm_param_grid)"
   ]
  },
  {
   "cell_type": "code",
   "execution_count": 44,
   "id": "52224134-5864-4995-91a4-685e296034f8",
   "metadata": {},
   "outputs": [],
   "source": []
  },
  {
   "cell_type": "code",
   "execution_count": 290,
   "id": "208a6a74-14b3-4564-824f-120d96bff5e3",
   "metadata": {},
   "outputs": [],
   "source": []
  },
  {
   "cell_type": "code",
   "execution_count": null,
   "id": "101193a5-6522-4905-b60e-69384ad30d78",
   "metadata": {},
   "outputs": [],
   "source": [
    "Step 6: Predict Unseen Data"
   ]
  },
  {
   "cell_type": "code",
   "execution_count": 191,
   "id": "a8a2c53d-1005-4427-a959-a71ba155c8a5",
   "metadata": {},
   "outputs": [
    {
     "name": "stdin",
     "output_type": "stream",
     "text": [
      "Enter age:  25\n",
      "Enter Resting Blood Pressure:  120\n",
      "Enter Cholesterol level:  120\n",
      "Enter Maximum Heart Rate (MaxHR):  140\n",
      "Enter Resting ECG value (Normal, ST, or LVH):  Normal\n"
     ]
    },
    {
     "name": "stdout",
     "output_type": "stream",
     "text": [
      "\n",
      "KNN Results:\n",
      "Age Entered: 25.0\n",
      "Probability of Heart Disease: 57.14%\n",
      "Heart Failure: Yes\n",
      "\n",
      "ANN Results:\n",
      "Age Entered: 25.0\n",
      "Probability of Heart Disease: 49.02%\n",
      "Heart Failure: No\n",
      "\n",
      "SVM Results:\n",
      "Age Entered: 25.0\n",
      "Probability of Heart Disease: 53.42%\n",
      "Heart Failure: Yes\n"
     ]
    }
   ],
   "source": [
    "# Function to make predictions for the unseen data\n",
    "def predict_unseen_data(models):\n",
    "    unseen_data = get_unseen_data()\n",
    "    unseen_df = pd.DataFrame([unseen_data])\n",
    "    \n",
    "    # Scale the input data\n",
    "    unseen_df_scaled = scaler.transform(unseen_df)\n",
    "    \n",
    "    for model, model_name in models:\n",
    "        try:\n",
    "            # Load the trained model\n",
    "            model = joblib.load(f'{model_name}.pkl')\n",
    "            y_pred = model.predict(unseen_df_scaled)\n",
    "            y_prob = model.predict_proba(unseen_df_scaled)[:, 1] if hasattr(model, 'predict_proba') else None\n",
    "            heart_failure = \"Yes\" if y_pred[0] == 1 else \"No\"\n",
    "            print(f\"\\n{model_name} Results:\")\n",
    "            print(f\"Age Entered: {unseen_data['Age']}\")\n",
    "            if y_prob is not None:\n",
    "                # Ensure y_prob is a scalar for formatting\n",
    "                probability = y_prob[0] if isinstance(y_prob, np.ndarray) else y_prob\n",
    "                print(f\"Probability of Heart Disease: {probability * 100:.2f}%\")\n",
    "            else:\n",
    "                print(\"Probability information not available\")\n",
    "            print(f\"Heart Failure: {heart_failure}\")\n",
    "        except Exception as e:\n",
    "            print(f\"Error with {model_name} model: {e}\")\n",
    "\n",
    "# Define models list for prediction\n",
    "models = [\n",
    "    (knn, \"KNN\"),\n",
    "    (ann, \"ANN\"),\n",
    "    (svm, \"SVM\")\n",
    "]\n",
    "\n",
    "# Call the function to prompt user and predict\n",
    "predict_unseen_data(models)\n"
   ]
  },
  {
   "cell_type": "code",
   "execution_count": null,
   "id": "fb65380e-d54d-4a4e-8f8b-4ee6f570c0dc",
   "metadata": {},
   "outputs": [],
   "source": []
  },
  {
   "cell_type": "code",
   "execution_count": null,
   "id": "3c1e2b94-577c-4776-89af-1814c339b452",
   "metadata": {},
   "outputs": [],
   "source": [
    "Step 7 : compare the models using a table"
   ]
  },
  {
   "cell_type": "code",
   "execution_count": 192,
   "id": "673b43ef-5050-4db6-a1cd-6fd55078aa0f",
   "metadata": {},
   "outputs": [
    {
     "name": "stdout",
     "output_type": "stream",
     "text": [
      "\n",
      "Comparison Table:\n",
      "  Model  Accuracy  Precision    Recall   ROC-AUC\n",
      "0   KNN  0.740196   0.711538  0.762887  0.790442\n",
      "1   ANN  0.740196   0.734043  0.711340  0.817612\n",
      "2   SVM  0.750000   0.712963  0.793814  0.840929\n"
     ]
    },
    {
     "data": {
      "image/png": "[encoded data removed]",
      "text/plain": [
       "<Figure size 1000x600 with 1 Axes>"
      ]
     },
     "metadata": {},
     "output_type": "display_data"
    }
   ],
   "source": [
    "# Compare the models using a table (Accuracy, Precision, and Recall)\n",
    "def compare_models():\n",
    "    results = []\n",
    "    for model, name in [(KNeighborsClassifier(), \"KNN\"), (MLPClassifier(max_iter=2000, random_state=2), \"ANN\"), (SVC(probability=True), \"SVM\")]:\n",
    "        model = joblib.load(f'{name}.pkl')  # Load the trained model\n",
    "        y_pred = model.predict(X_test)\n",
    "        y_prob = model.predict_proba(X_test)[:, 1]\n",
    "        accuracy = accuracy_score(y_test, y_pred)\n",
    "        precision = precision_score(y_test, y_pred)\n",
    "        recall = recall_score(y_test, y_pred)\n",
    "        roc_auc = roc_auc_score(y_test, y_prob)\n",
    "        results.append([name, accuracy, precision, recall, roc_auc])\n",
    "    results_df = pd.DataFrame(results, columns=['Model', 'Accuracy', 'Precision', 'Recall', 'ROC-AUC'])\n",
    "    print(\"\\nComparison Table:\")\n",
    "    print(results_df)\n",
    "    results_df.set_index('Model').plot(kind='bar', figsize=(10,6))\n",
    "    plt.title('Model Comparison (Accuracy, Precision, Recall, ROC-AUC)')\n",
    "    plt.ylabel('Scores')\n",
    "    plt.show()\n",
    "\n",
    "compare_models()"
   ]
  },
  {
   "cell_type": "code",
   "execution_count": null,
   "id": "b436da0b-d32b-4eec-bd14-c469dc300bbc",
   "metadata": {},
   "outputs": [],
   "source": []
  },
  {
   "cell_type": "markdown",
   "id": "9ce97cbd-31dc-4d6e-81e0-8bc088664333",
   "metadata": {},
   "source": [
    "Step 7 : Store the model in Joblib"
   ]
  },
  {
   "cell_type": "code",
   "execution_count": 193,
   "id": "73303a29-9938-4764-be9c-15933d4bad26",
   "metadata": {},
   "outputs": [
    {
     "data": {
      "text/plain": [
       "['heart_failure_model.joblib']"
      ]
     },
     "execution_count": 193,
     "metadata": {},
     "output_type": "execute_result"
    }
   ],
   "source": [
    "# Save all models and preprocessing steps into one file\n",
    "joblib.dump({\n",
    "    'knn': knn,\n",
    "    'ann': ann,\n",
    "    'svm': svm,\n",
    "    'scaler': scaler,\n",
    "    'label_encoder': label_encoder\n",
    "}, 'heart_failure_model.joblib')\n"
   ]
  },
  {
   "cell_type": "code",
   "execution_count": 194,
   "id": "ce648915-00a5-4005-9d12-fc56a66de712",
   "metadata": {},
   "outputs": [],
   "source": [
    "# Streamlit app for user input and prediction\n",
    "def run_streamlit_app():\n",
    "    # Load the models and preprocessing steps\n",
    "    heart_failure_model = load('heart_failure_model.joblib')\n",
    "    knn = heart_failure_model['knn']\n",
    "    ann = heart_failure_model['ann']\n",
    "    svm = heart_failure_model['svm']\n",
    "    scaler = heart_failure_model['scaler']\n",
    "    label_encoder = heart_failure_model['label_encoder']\n",
    "\n",
    "    # Create a user input field for the features\n",
    "    age = st.number_input('Enter age:', min_value=0, max_value=120, step=1)\n",
    "    resting_bp = st.number_input('Resting Blood Pressure:', min_value=0, step=1)\n",
    "    cholesterol = st.number_input('Cholesterol Level:', min_value=0, step=1)\n",
    "    max_hr = st.number_input('Maximum Heart Rate:', min_value=0, step=1)\n",
    "    resting_ecg = st.selectbox('Resting ECG:', ['Normal', 'ST', 'LVH'])\n",
    "\n",
    "    # Create a DataFrame with the same column names used in training\n",
    "    input_df = pd.DataFrame({\n",
    "        'Age': [age],\n",
    "        'RestingBP': [resting_bp],\n",
    "        'Cholesterol': [cholesterol],\n",
    "        'MaxHR': [max_hr],\n",
    "        'RestingECG': [resting_ecg]\n",
    "    })\n",
    "\n",
    "    # Handle unknown labels in RestingECG\n",
    "    if resting_ecg not in label_encoder.classes_:\n",
    "        st.error(f\"Unknown value '{resting_ecg}' for RestingECG. Please select from {label_encoder.classes_}.\")\n",
    "    else:\n",
    "        # Transform the RestingECG feature using the label encoder\n",
    "        input_df['RestingECG'] = label_encoder.transform(input_df['RestingECG'])\n",
    "        \n",
    "        # Scale the input data\n",
    "        input_df_scaled = scaler.transform(input_df)\n",
    "\n",
    "        # Predict using each model\n",
    "        if st.button('Predict Heart Disease Probability'):\n",
    "            models = {\n",
    "                'KNN': knn,\n",
    "                'ANN': ann,\n",
    "                'SVM': svm\n",
    "            }\n",
    "\n",
    "            for model_name, model in models.items():\n",
    "                try:\n",
    "                    prediction = model.predict(input_df_scaled)\n",
    "                    probability = model.predict_proba(input_df_scaled)[:, 1] if hasattr(model, 'predict_proba') else None\n",
    "\n",
    "                    # Display results\n",
    "                    st.write(f\"### {model_name} Model\")\n",
    "                    st.write(f\"Prediction: {'Heart Disease' if prediction[0] == 1 else 'No Heart Disease'}\")\n",
    "                    if probability is not None:\n",
    "                        st.write(f\"Probability of Heart Disease: {probability[0] * 100:.2f}%\")\n",
    "                except Exception as e:\n",
    "                    st.error(f\"Error with {model_name} model: {e}\")\n",
    "\n",
    "# Run the Streamlit app\n",
    "run_streamlit_app()"
   ]
  },
  {
   "cell_type": "code",
   "execution_count": null,
   "id": "10f67d94-3cee-4a27-ae23-e5c93bd2fd56",
   "metadata": {},
   "outputs": [],
   "source": []
  },
  {
   "cell_type": "code",
   "execution_count": null,
   "id": "d3487718-667e-4972-92ee-8acb0da81eb3",
   "metadata": {},
   "outputs": [],
   "source": [
    "Deployment"
   ]
  },
  {
   "cell_type": "code",
   "execution_count": 107,
   "id": "101ac91b-1b67-4eb9-a76d-76366592eb0b",
   "metadata": {},
   "outputs": [],
   "source": [
    "import streamlit as st\n",
    "from joblib import load\n",
    "import pandas as pd\n",
    "import numpy as np\n",
    "\n",
    "# Load the model\n",
    "model = load('heart_failure_model.joblib')\n",
    "\n",
    "# Create a user input field for the feature\n",
    "user_input = st.number_input('Enter age:', min_value=0, max_value=120, step=1)\n",
    "\n",
    "# Create a DataFrame with the same column name as used in training\n",
    "input_df = pd.DataFrame([[user_input]], columns=['Age'])\n",
    "\n",
    "# Predict the probability of heart disease\n",
    "if st.button('Predict Heart Disease Probability'):\n",
    "    predicted_probability = model.predict(input_df)\n",
    "    predicted_percentage = predicted_probability[0] * 100\n",
    "\n",
    "    # Determine the prediction result\n",
    "    threshold = 0.5  # Define your threshold (50% here)\n",
    "    prediction_result = \"Heart Disease\" if predicted_probability[0] >= threshold else \"No Heart Disease\"\n",
    "\n",
    "    # Display the results\n",
    "    st.write(f\"Predicted Heart Disease Probability: {predicted_percentage:.2f}%\")\n",
    "    st.write(f\"Prediction: {prediction_result}\")\n"
   ]
  },
  {
   "cell_type": "markdown",
   "id": "d4556ed0-c889-45bb-b6a9-494d21d3a4e7",
   "metadata": {},
   "source": [
    "Vectorize the feature"
   ]
  },
  {
   "cell_type": "code",
   "execution_count": 108,
   "id": "4ab50fdf-e1de-4f59-bcb7-ae07a05d1682",
   "metadata": {},
   "outputs": [
    {
     "name": "stdout",
     "output_type": "stream",
     "text": [
      "(918, 9)\n"
     ]
    }
   ],
   "source": [
    "from sklearn.preprocessing import OneHotEncoder\n",
    "import pandas as pd\n",
    "\n",
    "# Load the dataset\n",
    "data = pd.read_csv('heart.csv')\n",
    "\n",
    "# Select the categorical feature(s) for encoding (e.g., 'Sex', 'ChestPainType', 'RestingECG', 'ExerciseAngina', 'ST_Slope')\n",
    "categorical_features = ['Sex', 'ChestPainType', 'RestingECG', 'ExerciseAngina', 'ST_Slope']\n",
    "\n",
    "# Initialize OneHotEncoder\n",
    "encoder = OneHotEncoder(sparse_output=False, drop='first')  # Use sparse_output instead of sparse\n",
    "\n",
    "# Fit and transform on the dataset (assuming data is split into train and test sets)\n",
    "X_encoded = encoder.fit_transform(data[categorical_features])\n",
    "\n",
    "# Print the dimensions of the encoded data\n",
    "print(X_encoded.shape)\n"
   ]
  },
  {
   "cell_type": "code",
   "execution_count": 48,
   "id": "088a5c4d-627e-4e98-ae42-9e6be6042249",
   "metadata": {},
   "outputs": [
    {
     "name": "stdout",
     "output_type": "stream",
     "text": [
      "1.4.2\n"
     ]
    }
   ],
   "source": [
    "import sklearn\n",
    "print(sklearn.__version__)"
   ]
  },
  {
   "cell_type": "code",
   "execution_count": 47,
   "id": "1ccb0f2d-5610-4708-92a0-3b201a896c1a",
   "metadata": {},
   "outputs": [
    {
     "ename": "ImportError",
     "evalue": "cannot import name 'plot_roc_curve' from 'sklearn.metrics' (C:\\Users\\trevortanz\\anaconda3\\Lib\\site-packages\\sklearn\\metrics\\__init__.py)",
     "output_type": "error",
     "traceback": [
      "\u001b[1;31m---------------------------------------------------------------------------\u001b[0m",
      "\u001b[1;31mImportError\u001b[0m                               Traceback (most recent call last)",
      "Cell \u001b[1;32mIn[47], line 4\u001b[0m\n\u001b[0;32m      2\u001b[0m \u001b[38;5;28;01mfrom\u001b[39;00m \u001b[38;5;21;01msklearn\u001b[39;00m\u001b[38;5;21;01m.\u001b[39;00m\u001b[38;5;21;01mmetrics\u001b[39;00m \u001b[38;5;28;01mimport\u001b[39;00m confusion_matrix\n\u001b[0;32m      3\u001b[0m \u001b[38;5;28;01mfrom\u001b[39;00m \u001b[38;5;21;01msklearn\u001b[39;00m\u001b[38;5;21;01m.\u001b[39;00m\u001b[38;5;21;01mmetrics\u001b[39;00m \u001b[38;5;28;01mimport\u001b[39;00m roc_auc_score\n\u001b[1;32m----> 4\u001b[0m \u001b[38;5;28;01mfrom\u001b[39;00m \u001b[38;5;21;01msklearn\u001b[39;00m\u001b[38;5;21;01m.\u001b[39;00m\u001b[38;5;21;01mmetrics\u001b[39;00m \u001b[38;5;28;01mimport\u001b[39;00m plot_roc_curve\n\u001b[0;32m      5\u001b[0m \u001b[38;5;28;01mfrom\u001b[39;00m \u001b[38;5;21;01msklearn\u001b[39;00m\u001b[38;5;21;01m.\u001b[39;00m\u001b[38;5;21;01mmodel_selection\u001b[39;00m \u001b[38;5;28;01mimport\u001b[39;00m cross_val_score\n\u001b[0;32m      6\u001b[0m \u001b[38;5;28;01mfrom\u001b[39;00m \u001b[38;5;21;01msklearn\u001b[39;00m\u001b[38;5;21;01m.\u001b[39;00m\u001b[38;5;21;01mmodel_selection\u001b[39;00m \u001b[38;5;28;01mimport\u001b[39;00m GridSearchCV\n",
      "\u001b[1;31mImportError\u001b[0m: cannot import name 'plot_roc_curve' from 'sklearn.metrics' (C:\\Users\\trevortanz\\anaconda3\\Lib\\site-packages\\sklearn\\metrics\\__init__.py)"
     ]
    }
   ],
   "source": [
    "from sklearn.model_selection import train_test_split\n",
    "from sklearn.metrics import confusion_matrix\n",
    "from sklearn.metrics import roc_auc_score\n",
    "from sklearn.metrics import plot_roc_curve\n",
    "from sklearn.model_selection import cross_val_score\n",
    "from sklearn.model_selection import GridSearchCV\n",
    "from sklearn.metrics import classification_report\n",
    "from sklearn.metrics import accuracy_score\n",
    "from sklearn.model_selection import RepeatedStratifiedKFold\n",
    "from sklearn.metrics import precision_recall_curve"
   ]
  },
  {
   "cell_type": "markdown",
   "id": "8cba86ff-1508-4a8c-b3c9-4e9c8284072f",
   "metadata": {},
   "source": [
    "SVM"
   ]
  },
  {
   "cell_type": "code",
   "execution_count": 40,
   "id": "a175a4c7-7399-4622-a876-44da6465e323",
   "metadata": {},
   "outputs": [
    {
     "ename": "ImportError",
     "evalue": "cannot import name 'plot_roc_curve' from 'sklearn.metrics' (C:\\Users\\trevortanz\\anaconda3\\Lib\\site-packages\\sklearn\\metrics\\__init__.py)",
     "output_type": "error",
     "traceback": [
      "\u001b[1;31m---------------------------------------------------------------------------\u001b[0m",
      "\u001b[1;31mImportError\u001b[0m                               Traceback (most recent call last)",
      "Cell \u001b[1;32mIn[40], line 5\u001b[0m\n\u001b[0;32m      3\u001b[0m \u001b[38;5;28;01mimport\u001b[39;00m \u001b[38;5;21;01mpandas\u001b[39;00m \u001b[38;5;28;01mas\u001b[39;00m \u001b[38;5;21;01mpd\u001b[39;00m\n\u001b[0;32m      4\u001b[0m \u001b[38;5;28;01mfrom\u001b[39;00m \u001b[38;5;21;01msklearn\u001b[39;00m\u001b[38;5;21;01m.\u001b[39;00m\u001b[38;5;21;01mmodel_selection\u001b[39;00m \u001b[38;5;28;01mimport\u001b[39;00m train_test_split, RepeatedStratifiedKFold, cross_val_score\n\u001b[1;32m----> 5\u001b[0m \u001b[38;5;28;01mfrom\u001b[39;00m \u001b[38;5;21;01msklearn\u001b[39;00m\u001b[38;5;21;01m.\u001b[39;00m\u001b[38;5;21;01mmetrics\u001b[39;00m \u001b[38;5;28;01mimport\u001b[39;00m accuracy_score, roc_auc_score, plot_roc_curve, confusion_matrix, classification_report\n\u001b[0;32m      6\u001b[0m \u001b[38;5;28;01mimport\u001b[39;00m \u001b[38;5;21;01mmatplotlib\u001b[39;00m\u001b[38;5;21;01m.\u001b[39;00m\u001b[38;5;21;01mpyplot\u001b[39;00m \u001b[38;5;28;01mas\u001b[39;00m \u001b[38;5;21;01mplt\u001b[39;00m\n\u001b[0;32m      7\u001b[0m \u001b[38;5;28;01mimport\u001b[39;00m \u001b[38;5;21;01mseaborn\u001b[39;00m \u001b[38;5;28;01mas\u001b[39;00m \u001b[38;5;21;01msns\u001b[39;00m\n",
      "\u001b[1;31mImportError\u001b[0m: cannot import name 'plot_roc_curve' from 'sklearn.metrics' (C:\\Users\\trevortanz\\anaconda3\\Lib\\site-packages\\sklearn\\metrics\\__init__.py)"
     ]
    }
   ],
   "source": [
    "from sklearn.svm import LinearSVC\n",
    "from sklearn.preprocessing import OneHotEncoder\n",
    "import pandas as pd\n",
    "\n",
    "# Load the dataset\n",
    "data = pd.read_csv('heart.csv')\n",
    "\n",
    "# Select features and target variable\n",
    "features = ['Age', 'Sex', 'ChestPainType', 'RestingECG', 'ExerciseAngina', 'ST_Slope']  # Adjust as necessary\n",
    "target = 'HeartDisease'\n",
    "\n",
    "# Prepare the features and target\n",
    "X = data[features]\n",
    "y = data[target]\n",
    "\n",
    "# Initialize and fit OneHotEncoder for categorical features\n",
    "encoder = OneHotEncoder(sparse_output=False, drop='first')\n",
    "X_encoded = encoder.fit_transform(X[['Sex', 'ChestPainType', 'RestingECG', 'ExerciseAngina', 'ST_Slope']])\n",
    "X_encoded = pd.DataFrame(X_encoded, columns=encoder.get_feature_names_out())\n",
    "\n",
    "# Combine encoded features with numerical features\n",
    "X_combined = pd.concat([X[['Age']], X_encoded], axis=1)\n",
    "\n",
    "# Split the dataset into training and testing sets\n",
    "from sklearn.model_selection import train_test_split\n",
    "X_train, X_test, y_train, y_test = train_test_split(X_combined, y, test_size=0.2, random_state=42)\n",
    "\n",
    "# Initialize LinearSVC\n",
    "svc = LinearSVC(dual=False)\n",
    "\n",
    "# Train the model\n",
    "svc.fit(X_train, y_train)\n",
    "\n",
    "# Predict using the trained model\n",
    "y_pred_svm = svc.predict(X_test)\n",
    "\n",
    "# Output predictions\n",
    "print(y_pred_svm)\n"
   ]
  },
  {
   "cell_type": "markdown",
   "id": "95f1fb86-1abd-4369-844c-18d2b0d3c2e1",
   "metadata": {},
   "source": [
    "KNN"
   ]
  },
  {
   "cell_type": "code",
   "execution_count": 44,
   "id": "dcc0cb0a-bc2e-4819-97a4-de2de0475232",
   "metadata": {},
   "outputs": [
    {
     "name": "stdout",
     "output_type": "stream",
     "text": [
      "[0 1 1 1 0 1 1 0 1 1 1 0 1 0 1 0 0 0 1 0 1 1 0 1 1 1 0 1 0 0 1 0 1 1 1 0 1\n",
      " 0 1 1 1 1 1 0 0 1 0 1 1 0 0 0 1 1 0 1 0 1 1 1 0 1 0 1 0 1 1 1 1 1 0 0 1 1\n",
      " 1 1 1 1 1 0 0 1 1 0 1 1 0 1 0 0 0 1 1 0 1 0 1 1 1 0 0 1 0 0 0 1 0 0 1 0 1\n",
      " 1 0 0 1 0 0 0 1 1 1 1 0 1 0 0 0 1 0 0 0 1 1 0 1 0 1 1 0 0 1 1 1 1 1 1 1 0\n",
      " 0 1 0 1 1 0 0 0 0 0 0 1 0 0 1 0 1 1 1 1 0 1 1 1 0 1 0 1 0 1 0 1 1 1 0 1]\n"
     ]
    }
   ],
   "source": [
    "from sklearn.neighbors import KNeighborsClassifier\n",
    "from sklearn.preprocessing import OneHotEncoder\n",
    "import pandas as pd\n",
    "from sklearn.model_selection import train_test_split\n",
    "\n",
    "# Load the dataset\n",
    "data = pd.read_csv('heart.csv')\n",
    "\n",
    "# Select features and target variable\n",
    "features = ['Age', 'Sex', 'ChestPainType', 'RestingECG', 'ExerciseAngina', 'ST_Slope']\n",
    "target = 'HeartDisease'\n",
    "\n",
    "# Prepare the features and target\n",
    "X = data[features]\n",
    "y = data[target]\n",
    "\n",
    "# Initialize and fit OneHotEncoder for categorical features\n",
    "encoder = OneHotEncoder(sparse_output=False, drop='first')\n",
    "X_encoded = encoder.fit_transform(X[['Sex', 'ChestPainType', 'RestingECG', 'ExerciseAngina', 'ST_Slope']])\n",
    "X_encoded = pd.DataFrame(X_encoded, columns=encoder.get_feature_names_out())\n",
    "\n",
    "# Combine encoded features with numerical features\n",
    "X_combined = pd.concat([X[['Age']], X_encoded], axis=1)\n",
    "\n",
    "# Split the dataset into training and testing sets\n",
    "X_train, X_test, y_train, y_test = train_test_split(X_combined, y, test_size=0.2, random_state=42)\n",
    "\n",
    "# Initialize KNeighborsClassifier\n",
    "knn = KNeighborsClassifier()\n",
    "\n",
    "# Train the model\n",
    "knn.fit(X_train, y_train)\n",
    "\n",
    "# Predict using the trained model\n",
    "y_pred_knn = knn.predict(X_test)\n",
    "\n",
    "# Output predictions\n",
    "print(y_pred_knn)\n"
   ]
  },
  {
   "cell_type": "code",
   "execution_count": null,
   "id": "f15e2f8b-310f-4f18-907c-87e9bc7127f0",
   "metadata": {},
   "outputs": [],
   "source": []
  },
  {
   "cell_type": "markdown",
   "id": "52263438-4479-415c-a8e8-c22f4912abf6",
   "metadata": {},
   "source": [
    "ANN"
   ]
  },
  {
   "cell_type": "code",
   "execution_count": 36,
   "id": "a126fc5e-bd1c-491d-afa3-2a867a5df072",
   "metadata": {},
   "outputs": [
    {
     "name": "stdout",
     "output_type": "stream",
     "text": [
      "[0 1 1 1 0 1 1 0 1 1 1 0 1 0 1 0 0 1 1 0 1 1 0 1 1 1 0 0 0 0 1 0 1 1 1 0 1\n",
      " 0 1 1 1 1 1 0 0 1 1 1 1 0 0 0 1 1 1 0 0 1 1 1 0 0 0 1 0 1 1 1 1 1 0 0 0 1\n",
      " 0 1 0 1 0 1 0 1 1 0 1 1 0 1 0 0 0 1 1 0 1 0 1 0 1 0 0 1 1 0 0 1 0 0 1 0 1\n",
      " 1 0 0 1 0 0 0 1 1 1 1 0 1 0 0 0 0 0 0 0 1 1 0 1 0 1 1 0 0 0 0 1 1 1 1 1 0\n",
      " 0 0 0 1 1 0 1 0 0 0 0 1 0 0 1 0 1 1 0 1 0 0 1 1 0 1 0 1 0 1 0 1 1 1 0 1]\n"
     ]
    }
   ],
   "source": [
    "from sklearn.neural_network import MLPClassifier\n",
    "from sklearn.preprocessing import OneHotEncoder\n",
    "import pandas as pd\n",
    "from sklearn.model_selection import train_test_split\n",
    "\n",
    "# Load the dataset\n",
    "data = pd.read_csv('heart.csv')\n",
    "\n",
    "# Select features and target variable\n",
    "features = ['Age', 'Sex', 'ChestPainType', 'RestingECG', 'ExerciseAngina', 'ST_Slope']\n",
    "target = 'HeartDisease'\n",
    "\n",
    "# Prepare the features and target\n",
    "X = data[features]\n",
    "y = data[target]\n",
    "\n",
    "# Initialize and fit OneHotEncoder for categorical features\n",
    "encoder = OneHotEncoder(sparse_output=False, drop='first')\n",
    "X_encoded = encoder.fit_transform(X[['Sex', 'ChestPainType', 'RestingECG', 'ExerciseAngina', 'ST_Slope']])\n",
    "X_encoded = pd.DataFrame(X_encoded, columns=encoder.get_feature_names_out())\n",
    "\n",
    "# Combine encoded features with numerical features\n",
    "X_combined = pd.concat([X[['Age']], X_encoded], axis=1)\n",
    "\n",
    "# Split the dataset into training and testing sets\n",
    "X_train, X_test, y_train, y_test = train_test_split(X_combined, y, test_size=0.2, random_state=42)\n",
    "\n",
    "# Initialize MLPClassifier\n",
    "ann = MLPClassifier(hidden_layer_sizes=(100,), max_iter=500, random_state=42)\n",
    "\n",
    "# Train the model\n",
    "ann.fit(X_train, y_train)\n",
    "\n",
    "# Predict using the trained model\n",
    "y_pred_ann = ann.predict(X_test)\n",
    "\n",
    "# Output predictions\n",
    "print(y_pred_ann)\n"
   ]
  },
  {
   "cell_type": "markdown",
   "id": "623b423e-95e5-455e-ae96-9c7c4b3ffb2b",
   "metadata": {},
   "source": [
    "Decision Tree"
   ]
  },
  {
   "cell_type": "code",
   "execution_count": 37,
   "id": "8b2fb272-ada7-478c-a8fe-c5e3ff7aaf57",
   "metadata": {},
   "outputs": [
    {
     "name": "stdout",
     "output_type": "stream",
     "text": [
      "[0 1 1 1 0 1 1 0 1 1 1 0 1 0 1 0 0 0 1 0 1 1 0 1 1 1 0 0 0 0 1 0 0 1 1 0 1\n",
      " 0 1 1 1 1 0 0 0 1 0 1 1 0 0 0 1 1 0 0 1 1 1 1 0 1 0 1 0 1 1 1 1 1 1 0 1 0\n",
      " 0 1 0 1 1 0 0 1 0 0 1 1 0 0 0 0 1 1 1 0 1 0 1 1 1 0 0 1 1 0 1 1 1 0 0 0 1\n",
      " 1 0 1 1 1 0 0 1 0 1 0 1 1 0 0 0 0 0 0 1 1 1 0 1 0 0 1 0 0 1 0 1 1 1 1 0 0\n",
      " 1 0 0 0 1 0 0 0 0 0 0 1 0 1 1 0 1 1 0 1 0 1 1 0 0 1 0 1 0 1 0 1 1 1 0 1]\n"
     ]
    }
   ],
   "source": [
    "from sklearn.tree import DecisionTreeClassifier\n",
    "from sklearn.preprocessing import OneHotEncoder\n",
    "import pandas as pd\n",
    "from sklearn.model_selection import train_test_split\n",
    "\n",
    "# Load the dataset\n",
    "data = pd.read_csv('heart.csv')\n",
    "\n",
    "# Select features and target variable\n",
    "features = ['Age', 'Sex', 'ChestPainType', 'RestingECG', 'ExerciseAngina', 'ST_Slope']\n",
    "target = 'HeartDisease'\n",
    "\n",
    "# Prepare the features and target\n",
    "X = data[features]\n",
    "y = data[target]\n",
    "\n",
    "# Initialize and fit OneHotEncoder for categorical features\n",
    "encoder = OneHotEncoder(sparse_output=False, drop='first')\n",
    "X_encoded = encoder.fit_transform(X[['Sex', 'ChestPainType', 'RestingECG', 'ExerciseAngina', 'ST_Slope']])\n",
    "X_encoded = pd.DataFrame(X_encoded, columns=encoder.get_feature_names_out())\n",
    "\n",
    "# Combine encoded features with numerical features\n",
    "X_combined = pd.concat([X[['Age']], X_encoded], axis=1)\n",
    "\n",
    "# Split the dataset into training and testing sets\n",
    "X_train, X_test, y_train, y_test = train_test_split(X_combined, y, test_size=0.2, random_state=42)\n",
    "\n",
    "# Initialize DecisionTreeClassifier\n",
    "decision_tree = DecisionTreeClassifier()\n",
    "\n",
    "# Train the model\n",
    "decision_tree.fit(X_train, y_train)\n",
    "\n",
    "# Predict using the trained model\n",
    "y_pred_tree = decision_tree.predict(X_test)\n",
    "\n",
    "# Output predictions\n",
    "print(y_pred_tree)\n"
   ]
  },
  {
   "cell_type": "markdown",
   "id": "1a04b071-967a-4810-abfe-294c46c483e6",
   "metadata": {},
   "source": [
    "Random Forest "
   ]
  },
  {
   "cell_type": "code",
   "execution_count": 38,
   "id": "88ece8ac-6af0-4d18-82d0-7b7d35c6de7b",
   "metadata": {},
   "outputs": [
    {
     "name": "stdout",
     "output_type": "stream",
     "text": [
      "[0 1 1 1 0 1 1 0 1 1 1 1 1 0 1 0 0 0 1 0 0 1 0 1 1 1 0 0 0 0 1 0 0 1 1 0 1\n",
      " 0 1 1 1 1 0 0 0 0 0 1 1 0 0 0 1 1 0 0 1 1 0 1 0 1 0 1 0 1 1 1 1 0 0 0 0 0\n",
      " 1 1 0 1 0 0 0 1 0 0 1 0 0 0 0 0 0 1 1 0 1 0 1 0 1 0 0 1 1 0 1 1 0 0 1 0 1\n",
      " 1 0 1 1 1 0 0 1 1 1 1 0 1 0 0 0 0 0 0 0 1 1 0 1 0 1 1 0 0 1 0 1 1 1 1 1 0\n",
      " 1 0 0 1 1 0 1 0 0 0 0 1 0 1 1 0 1 1 0 1 0 0 1 1 0 1 0 1 0 1 0 0 1 1 0 1]\n"
     ]
    }
   ],
   "source": [
    "from sklearn.ensemble import RandomForestClassifier\n",
    "from sklearn.preprocessing import OneHotEncoder\n",
    "import pandas as pd\n",
    "from sklearn.model_selection import train_test_split\n",
    "\n",
    "# Load the dataset\n",
    "data = pd.read_csv('heart.csv')\n",
    "\n",
    "# Select features and target variable\n",
    "features = ['Age', 'Sex', 'ChestPainType', 'RestingECG', 'ExerciseAngina', 'ST_Slope']\n",
    "target = 'HeartDisease'\n",
    "\n",
    "# Prepare the features and target\n",
    "X = data[features]\n",
    "y = data[target]\n",
    "\n",
    "# Initialize and fit OneHotEncoder for categorical features\n",
    "encoder = OneHotEncoder(sparse_output=False, drop='first')\n",
    "X_encoded = encoder.fit_transform(X[['Sex', 'ChestPainType', 'RestingECG', 'ExerciseAngina', 'ST_Slope']])\n",
    "X_encoded = pd.DataFrame(X_encoded, columns=encoder.get_feature_names_out())\n",
    "\n",
    "# Combine encoded features with numerical features\n",
    "X_combined = pd.concat([X[['Age']], X_encoded], axis=1)\n",
    "\n",
    "# Split the dataset into training and testing sets\n",
    "X_train, X_test, y_train, y_test = train_test_split(X_combined, y, test_size=0.2, random_state=42)\n",
    "\n",
    "# Initialize RandomForestClassifier\n",
    "rf = RandomForestClassifier()\n",
    "\n",
    "# Train the model\n",
    "rf.fit(X_train, y_train)\n",
    "\n",
    "# Predict using the trained model\n",
    "y_pred_rf = rf.predict(X_test)\n",
    "\n",
    "# Output predictions\n",
    "print(y_pred_rf)\n"
   ]
  },
  {
   "cell_type": "markdown",
   "id": "6303c9cd-4654-448e-a409-a28bc42898d1",
   "metadata": {},
   "source": [
    "Linear Regression "
   ]
  },
  {
   "cell_type": "code",
   "execution_count": 39,
   "id": "e0360895-3ed7-4e6e-ab4a-3a4ea217e69e",
   "metadata": {},
   "outputs": [
    {
     "name": "stdout",
     "output_type": "stream",
     "text": [
      "[-0.01051466  0.58014427  0.86038128  0.98222066  0.12949213  0.86462243\n",
      "  0.81735135  0.21728249  0.60431171  0.90364908  0.64211044  0.18381477\n",
      "  0.66724239  0.13905434  0.80679909  0.31096659  0.02035255  0.72867761\n",
      "  0.73075152  0.45403069  0.69470259  0.7709474   0.08864279  0.77424016\n",
      "  0.99015905  0.94442192  0.10080551  0.57382922  0.07166879  0.02430785\n",
      "  0.79290587  0.30618549  0.58744439  0.93007861  0.71105015  0.41551283\n",
      "  0.97310854  0.12211051  1.02091958  0.75870631  0.86462243  0.6912309\n",
      "  0.59196358  0.14078483  0.00122813  0.56056976  0.75465704  0.98222066\n",
      "  0.79768697  0.36906046  0.11947983  0.03919112  0.77523021  0.9688674\n",
      "  0.51462469  0.1601258   0.39970806  0.84026682  0.60167461  0.84672593\n",
      "  0.16992155  0.17425256 -0.10081568  1.04058395 -0.00482887  0.9736485\n",
      "  1.03526289  0.93007861  1.03580285  0.5995306   0.32648062  0.12689162\n",
      "  0.40613857  0.55405817  0.36833984  0.90617309  0.39756642  0.59284696\n",
      "  0.10757902  0.5241869   0.41570078  0.90942024  0.75078474  0.10558661\n",
      "  0.88930577  0.63810567  0.1443754   0.59689351  0.14705428  0.07908058\n",
      "  0.06870354  0.96354633  0.78001132  0.27144597  0.66732538  0.13427324\n",
      "  0.93007861  0.25120032  0.90572299  0.35594357  0.06309664  0.98267075\n",
      "  0.69728379  0.13645382  0.39224536  0.97310854 -0.07924876  0.35877763\n",
      "  1.00657627  0.26884546  0.80246808  0.99223296  0.14556594  0.3152976\n",
      "  0.97788965  0.09924324  0.34497428  0.16568041  1.01613848  0.62298603\n",
      "  0.9280047   0.59926869  0.10802912  0.99656397  0.12904204  0.07689999\n",
      " -0.01051466  0.36842092  0.09820499  0.43049419  0.3001326   0.95398413\n",
      "  0.77378146  0.22710662  0.99223296  0.17784313  0.8663331   0.54667655\n",
      " -0.13482336  0.44005639  0.39702646  0.25678329  0.97310854  0.58201023\n",
      "  0.79814568  0.88975587  0.74031373  0.01512135  0.39224536  0.38223306\n",
      "  0.08168109  0.81397733  1.03580285 -0.07266901  0.74563479  0.16514045\n",
      "  0.12211051  0.33063097  0.1125483   0.87117141  0.05777557  0.09924324\n",
      "  0.8263736  -0.01257522  0.84549801  0.78812477  0.38800421  0.93756691\n",
      "  0.14123493  0.33360032  0.81257025  0.81203029  0.08386168  0.79007181\n",
      "  0.12949213  1.00233512  0.31150655  1.0348128   0.08386168  0.5629669\n",
      "  0.84266395  1.03580285  0.10558661  1.03580285]\n"
     ]
    }
   ],
   "source": [
    "from sklearn.linear_model import LinearRegression\n",
    "from sklearn.preprocessing import OneHotEncoder\n",
    "import pandas as pd\n",
    "from sklearn.model_selection import train_test_split\n",
    "\n",
    "# Load the dataset\n",
    "data = pd.read_csv('heart.csv')\n",
    "\n",
    "# Select features and target variable\n",
    "features = ['Age', 'Sex', 'ChestPainType', 'RestingECG', 'ExerciseAngina', 'ST_Slope']\n",
    "target = 'HeartDisease'\n",
    "\n",
    "# Prepare the features and target\n",
    "X = data[features]\n",
    "y = data[target]\n",
    "\n",
    "# Initialize and fit OneHotEncoder for categorical features\n",
    "encoder = OneHotEncoder(sparse_output=False, drop='first')\n",
    "X_encoded = encoder.fit_transform(X[['Sex', 'ChestPainType', 'RestingECG', 'ExerciseAngina', 'ST_Slope']])\n",
    "X_encoded = pd.DataFrame(X_encoded, columns=encoder.get_feature_names_out())\n",
    "\n",
    "# Combine encoded features with numerical features\n",
    "X_combined = pd.concat([X[['Age']], X_encoded], axis=1)\n",
    "\n",
    "# Split the dataset into training and testing sets\n",
    "X_train, X_test, y_train, y_test = train_test_split(X_combined, y, test_size=0.2, random_state=42)\n",
    "\n",
    "# Initialize LinearRegression\n",
    "lin_reg = LinearRegression()\n",
    "\n",
    "# Train the model\n",
    "lin_reg.fit(X_train, y_train)\n",
    "\n",
    "# Predict using the trained model\n",
    "y_pred_lr = lin_reg.predict(X_test)\n",
    "\n",
    "# Output predictions\n",
    "print(y_pred_lr)\n"
   ]
  }
 ],
 "metadata": {
  "kernelspec": {
   "display_name": "Python 3 (ipykernel)",
   "language": "python",
   "name": "python3"
  },
  "language_info": {
   "codemirror_mode": {
    "name": "ipython",
    "version": 3
   },
   "file_extension": ".py",
   "mimetype": "text/x-python",
   "name": "python",
   "nbconvert_exporter": "python",
   "pygments_lexer": "ipython3",
   "version": "3.12.4"
  }
 },
 "nbformat": 4,
 "nbformat_minor": 5
}
