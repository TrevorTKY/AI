{
 "cells": [
  {
   "cell_type": "code",
   "execution_count": 202,
   "id": "e911f069-2f33-4035-b459-a0fe671a9513",
   "metadata": {},
   "outputs": [
    {
     "name": "stdout",
     "output_type": "stream",
     "text": [
      "Requirement already satisfied: scikit-learn in c:\\users\\taruc\\anaconda3\\lib\\site-packages (1.4.2)Note: you may need to restart the kernel to use updated packages.\n",
      "\n",
      "Requirement already satisfied: numpy>=1.19.5 in c:\\users\\taruc\\anaconda3\\lib\\site-packages (from scikit-learn) (1.26.4)\n",
      "Requirement already satisfied: scipy>=1.6.0 in c:\\users\\taruc\\anaconda3\\lib\\site-packages (from scikit-learn) (1.13.1)\n",
      "Requirement already satisfied: joblib>=1.2.0 in c:\\users\\taruc\\anaconda3\\lib\\site-packages (from scikit-learn) (1.4.2)\n",
      "Requirement already satisfied: threadpoolctl>=2.0.0 in c:\\users\\taruc\\anaconda3\\lib\\site-packages (from scikit-learn) (2.2.0)\n"
     ]
    }
   ],
   "source": [
    "pip install scikit-learn"
   ]
  },
  {
   "cell_type": "markdown",
   "id": "e387ff2e-abce-43a4-b0de-5c0a4a8e6bac",
   "metadata": {},
   "source": [
    "Step 1: Prepare the data"
   ]
  },
  {
   "cell_type": "code",
   "execution_count": 252,
   "id": "b5431390-ab76-460f-a4b7-7589347dca07",
   "metadata": {},
   "outputs": [
    {
     "name": "stdout",
     "output_type": "stream",
     "text": [
      "   Age Sex ChestPainType  RestingBP  Cholesterol  FastingBS RestingECG  MaxHR  \\\n",
      "0   40   M           ATA        140          289          0     Normal    172   \n",
      "1   49   F           NAP        160          180          0     Normal    156   \n",
      "2   37   M           ATA        130          283          0         ST     98   \n",
      "3   48   F           ASY        138          214          0     Normal    108   \n",
      "4   54   M           NAP        150          195          0     Normal    122   \n",
      "\n",
      "  ExerciseAngina  Oldpeak ST_Slope  HeartDisease  \n",
      "0              N      0.0       Up             0  \n",
      "1              N      1.0     Flat             1  \n",
      "2              N      0.0       Up             0  \n",
      "3              Y      1.5     Flat             1  \n",
      "4              N      0.0       Up             0  \n"
     ]
    }
   ],
   "source": [
    "# Import necessary libraries\n",
    "import numpy as np\n",
    "import pandas as pd\n",
    "import seaborn as sns\n",
    "import matplotlib.pyplot as plt\n",
    "from sklearn.neighbors import KNeighborsClassifier\n",
    "from sklearn.svm import SVC\n",
    "from sklearn.neural_network import MLPClassifier\n",
    "from sklearn.preprocessing import StandardScaler, LabelEncoder\n",
    "from sklearn.model_selection import train_test_split, cross_val_score, GridSearchCV\n",
    "from sklearn.metrics import accuracy_score, classification_report, confusion_matrix, precision_score, recall_score, roc_auc_score\n",
    "from imblearn.over_sampling import SMOTE\n",
    "import joblib\n",
    "import streamlit as st\n",
    "\n",
    "# Load the heart dataset\n",
    "data = pd.read_csv('heart.csv')\n",
    "\n",
    "# Clean column names by stripping any leading/trailing spaces\n",
    "data.columns = data.columns.str.strip()\n",
    "\n",
    "# Print first 5 rows of the dataset\n",
    "print(data.head())\n"
   ]
  },
  {
   "cell_type": "code",
   "execution_count": null,
   "id": "40416d18-086a-400e-9285-c913b19f10df",
   "metadata": {},
   "outputs": [],
   "source": [
    "Step 2 and 3 : Feature Extraction and Split the Data"
   ]
  },
  {
   "cell_type": "code",
   "execution_count": 256,
   "id": "0b371c09-0c99-4f42-b9b5-3761810fc245",
   "metadata": {},
   "outputs": [],
   "source": [
    "# Select features that might impact heart disease\n",
    "features = ['Age', 'RestingBP', 'Cholesterol', 'MaxHR', 'RestingECG']\n",
    "X = data[features].copy()\n",
    "y = data['HeartDisease'].values\n",
    "\n",
    "# Encode the categorical feature 'RestingECG' using LabelEncoder\n",
    "label_encoder = LabelEncoder()\n",
    "X['RestingECG'] = label_encoder.fit_transform(X['RestingECG'])\n",
    "\n",
    "# Data Scaling\n",
    "scaler = StandardScaler()\n",
    "X_scaled = scaler.fit_transform(X)\n",
    "\n",
    "# Handle class imbalance using SMOTE\n",
    "smote = SMOTE(random_state=2)\n",
    "X_balanced, y_balanced = smote.fit_resample(X_scaled, y)\n",
    "\n",
    "# Split the data into training and test sets\n",
    "X_train, X_test, y_train, y_test = train_test_split(X_balanced, y_balanced, test_size=0.2, random_state=2)\n"
   ]
  },
  {
   "cell_type": "markdown",
   "id": "03f93a91-dda6-4ec4-8b38-ef5d2ee23069",
   "metadata": {},
   "source": [
    "Step 4: Fit Model and Predict Outcomes"
   ]
  },
  {
   "cell_type": "code",
   "execution_count": 254,
   "id": "f4a2cb17-5fd2-4885-aaba-97f942747472",
   "metadata": {},
   "outputs": [],
   "source": [
    "\n",
    "# # Initialize models\n",
    "# knn = KNeighborsClassifier()\n",
    "# ann = MLPClassifier(max_iter=2000, random_state=2)\n",
    "# svm = SVC(probability=True)\n",
    "\n"
   ]
  },
  {
   "cell_type": "code",
   "execution_count": null,
   "id": "dd405a0e-08bf-45b6-a409-709355a0ba79",
   "metadata": {},
   "outputs": [],
   "source": [
    "Step 5: Train and Evaluate the Model"
   ]
  },
  {
   "cell_type": "code",
   "execution_count": 257,
   "id": "a54e1c03-a11e-4d8a-9aab-d9e9372c355b",
   "metadata": {},
   "outputs": [
    {
     "name": "stdout",
     "output_type": "stream",
     "text": [
      "Best Parameters for KNN: {'n_neighbors': 7}\n",
      "\n",
      "KNN Accuracy: 0.74\n",
      "\n",
      "KNN Classification Report:\n",
      "              precision    recall  f1-score   support\n",
      "\n",
      "           0       0.77      0.72      0.74       107\n",
      "           1       0.71      0.76      0.74        97\n",
      "\n",
      "    accuracy                           0.74       204\n",
      "   macro avg       0.74      0.74      0.74       204\n",
      "weighted avg       0.74      0.74      0.74       204\n",
      "\n",
      "\n",
      "KNN Confusion Matrix:\n",
      "[[77 30]\n",
      " [23 74]]\n"
     ]
    },
    {
     "data": {
      "image/png": "[encoded data removed]",
      "text/plain": [
       "<Figure size 500x400 with 2 Axes>"
      ]
     },
     "metadata": {},
     "output_type": "display_data"
    },
    {
     "name": "stdout",
     "output_type": "stream",
     "text": [
      "KNN ROC-AUC Score: 0.79\n",
      "KNN Cross-validation Accuracy: 0.69\n",
      "Best Parameters for ANN: {'activation': 'relu', 'hidden_layer_sizes': (20,), 'solver': 'adam'}\n",
      "\n",
      "ANN Accuracy: 0.74\n",
      "\n",
      "ANN Classification Report:\n",
      "              precision    recall  f1-score   support\n",
      "\n",
      "           0       0.75      0.77      0.76       107\n",
      "           1       0.73      0.71      0.72        97\n",
      "\n",
      "    accuracy                           0.74       204\n",
      "   macro avg       0.74      0.74      0.74       204\n",
      "weighted avg       0.74      0.74      0.74       204\n",
      "\n",
      "\n",
      "ANN Confusion Matrix:\n",
      "[[82 25]\n",
      " [28 69]]\n"
     ]
    },
    {
     "data": {
      "image/png": "[encoded data removed]",
      "text/plain": [
       "<Figure size 500x400 with 2 Axes>"
      ]
     },
     "metadata": {},
     "output_type": "display_data"
    },
    {
     "name": "stdout",
     "output_type": "stream",
     "text": [
      "ANN ROC-AUC Score: 0.82\n",
      "ANN Cross-validation Accuracy: 0.66\n",
      "Best Parameters for SVM: {'C': 0.1, 'kernel': 'rbf'}\n",
      "\n",
      "SVM Accuracy: 0.75\n",
      "\n",
      "SVM Classification Report:\n",
      "              precision    recall  f1-score   support\n",
      "\n",
      "           0       0.79      0.71      0.75       107\n",
      "           1       0.71      0.79      0.75        97\n",
      "\n",
      "    accuracy                           0.75       204\n",
      "   macro avg       0.75      0.75      0.75       204\n",
      "weighted avg       0.75      0.75      0.75       204\n",
      "\n",
      "\n",
      "SVM Confusion Matrix:\n",
      "[[76 31]\n",
      " [20 77]]\n"
     ]
    },
    {
     "data": {
      "image/png": "[encoded data removed]",
      "text/plain": [
       "<Figure size 500x400 with 2 Axes>"
      ]
     },
     "metadata": {},
     "output_type": "display_data"
    },
    {
     "name": "stdout",
     "output_type": "stream",
     "text": [
      "SVM ROC-AUC Score: 0.84\n",
      "SVM Cross-validation Accuracy: 0.69\n"
     ]
    },
    {
     "data": {
      "text/plain": [
       "['heart_failure_model.joblib']"
      ]
     },
     "execution_count": 257,
     "metadata": {},
     "output_type": "execute_result"
    }
   ],
   "source": [
    "import joblib\n",
    "\n",
    "# Define a function to train and evaluate each model with hyperparameter tuning\n",
    "def train_and_evaluate_model(model, model_name, param_grid=None):\n",
    "    if param_grid:\n",
    "        grid_search = GridSearchCV(model, param_grid, cv=5, scoring='accuracy', n_jobs=-1)\n",
    "        grid_search.fit(X_train, y_train)\n",
    "        model = grid_search.best_estimator_\n",
    "        print(f\"Best Parameters for {model_name}: {grid_search.best_params_}\")\n",
    "    else:\n",
    "        model.fit(X_train, y_train)\n",
    "    \n",
    "    # Predict on the test set\n",
    "    y_pred = model.predict(X_test)\n",
    "    y_prob = model.predict_proba(X_test)[:, 1]\n",
    "    \n",
    "    # Print evaluation metrics\n",
    "    accuracy = accuracy_score(y_test, y_pred)\n",
    "    print(f\"\\n{model_name} Accuracy: {accuracy:.2f}\")\n",
    "    \n",
    "    print(f\"\\n{model_name} Classification Report:\")\n",
    "    print(classification_report(y_test, y_pred, zero_division=1))\n",
    "    \n",
    "    print(f\"\\n{model_name} Confusion Matrix:\")\n",
    "    print(confusion_matrix(y_test, y_pred))\n",
    "    \n",
    "    plt.figure(figsize=(5,4))\n",
    "    sns.heatmap(confusion_matrix(y_test, y_pred), annot=True, fmt='d', cmap='Blues')\n",
    "    plt.title(f'{model_name} Confusion Matrix')\n",
    "    plt.ylabel('Actual')\n",
    "    plt.xlabel('Predicted')\n",
    "    plt.show()\n",
    "    \n",
    "    # ROC-AUC Score\n",
    "    roc_auc = roc_auc_score(y_test, y_prob)\n",
    "    print(f\"{model_name} ROC-AUC Score: {roc_auc:.2f}\")\n",
    "    \n",
    "    # Cross-validation for more reliable metrics\n",
    "    cross_val_scores = cross_val_score(model, X_balanced, y_balanced, cv=5, scoring='accuracy')\n",
    "    print(f\"{model_name} Cross-validation Accuracy: {np.mean(cross_val_scores):.2f}\")\n",
    "\n",
    "    return model\n",
    "\n",
    "# Train and evaluate models\n",
    "knn = train_and_evaluate_model(KNeighborsClassifier(), \"KNN\", param_grid={'n_neighbors': [3, 5, 7, 9]})\n",
    "ann = train_and_evaluate_model(MLPClassifier(max_iter=2000, random_state=2), \"ANN\", param_grid={\n",
    "    'hidden_layer_sizes': [(10,), (20,), (10, 10), (20, 20)],\n",
    "    'activation': ['tanh', 'relu'],\n",
    "    'solver': ['adam', 'sgd']\n",
    "})\n",
    "svm = train_and_evaluate_model(SVC(probability=True), \"SVM\", param_grid={\n",
    "    'kernel': ['linear', 'rbf'],\n",
    "    'C': [0.1, 1, 10]\n",
    "})\n",
    "\n",
    "# Save all models and preprocessing steps into one file\n",
    "joblib.dump({\n",
    "    'knn': knn,\n",
    "    'ann': ann,\n",
    "    'svm': svm,\n",
    "    'scaler': scaler,\n",
    "    'label_encoder': label_encoder\n",
    "}, 'heart_failure_model.joblib')\n"
   ]
  },
  {
   "cell_type": "code",
   "execution_count": 290,
   "id": "208a6a74-14b3-4564-824f-120d96bff5e3",
   "metadata": {},
   "outputs": [],
   "source": []
  },
  {
   "cell_type": "code",
   "execution_count": null,
   "id": "101193a5-6522-4905-b60e-69384ad30d78",
   "metadata": {},
   "outputs": [],
   "source": [
    "Step 6: Predict Unseen Data"
   ]
  },
  {
   "cell_type": "code",
   "execution_count": 258,
   "id": "a8a2c53d-1005-4427-a959-a71ba155c8a5",
   "metadata": {},
   "outputs": [
    {
     "name": "stdin",
     "output_type": "stream",
     "text": [
      "Enter age:  25\n",
      "Enter Resting Blood Pressure:  120\n",
      "Enter Cholesterol level:  120\n",
      "Enter Maximum Heart Rate (MaxHR):  140\n",
      "Enter Resting ECG value (Normal, ST, or LVH):  ST\n"
     ]
    },
    {
     "name": "stdout",
     "output_type": "stream",
     "text": [
      "\n",
      "KNN Results:\n",
      "Age Entered: 25.0\n",
      "Probability of Heart Disease: 28.57%\n",
      "Heart Failure: No\n",
      "\n",
      "ANN Results:\n",
      "Age Entered: 25.0\n",
      "Probability of Heart Disease: 34.32%\n",
      "Heart Failure: No\n",
      "\n",
      "SVM Results:\n",
      "Age Entered: 25.0\n",
      "Probability of Heart Disease: 51.70%\n",
      "Heart Failure: Yes\n"
     ]
    }
   ],
   "source": [
    "# Function to make predictions for the unseen data\n",
    "def predict_unseen_data(models):\n",
    "    unseen_data = get_unseen_data()\n",
    "    unseen_df = pd.DataFrame([unseen_data])\n",
    "    \n",
    "    # Scale the input data\n",
    "    unseen_df_scaled = scaler.transform(unseen_df)\n",
    "    \n",
    "    for model, model_name in models:\n",
    "        try:\n",
    "            # Load the trained model\n",
    "            model = joblib.load(f'{model_name}.pkl')\n",
    "            y_pred = model.predict(unseen_df_scaled)\n",
    "            y_prob = model.predict_proba(unseen_df_scaled)[:, 1] if hasattr(model, 'predict_proba') else None\n",
    "            heart_failure = \"Yes\" if y_pred[0] == 1 else \"No\"\n",
    "            print(f\"\\n{model_name} Results:\")\n",
    "            print(f\"Age Entered: {unseen_data['Age']}\")\n",
    "            if y_prob is not None:\n",
    "                # Ensure y_prob is a scalar for formatting\n",
    "                probability = y_prob[0] if isinstance(y_prob, np.ndarray) else y_prob\n",
    "                print(f\"Probability of Heart Disease: {probability * 100:.2f}%\")\n",
    "            else:\n",
    "                print(\"Probability information not available\")\n",
    "            print(f\"Heart Failure: {heart_failure}\")\n",
    "        except Exception as e:\n",
    "            print(f\"Error with {model_name} model: {e}\")\n",
    "\n",
    "# Define models list for prediction\n",
    "models = [\n",
    "    (knn, \"KNN\"),\n",
    "    (ann, \"ANN\"),\n",
    "    (svm, \"SVM\")\n",
    "]\n",
    "\n",
    "# Call the function to prompt user and predict\n",
    "predict_unseen_data(models)\n"
   ]
  },
  {
   "cell_type": "code",
   "execution_count": null,
   "id": "fb65380e-d54d-4a4e-8f8b-4ee6f570c0dc",
   "metadata": {},
   "outputs": [],
   "source": []
  },
  {
   "cell_type": "code",
   "execution_count": null,
   "id": "3c1e2b94-577c-4776-89af-1814c339b452",
   "metadata": {},
   "outputs": [],
   "source": [
    "Step 7 : compare the models using a table"
   ]
  },
  {
   "cell_type": "code",
   "execution_count": 259,
   "id": "673b43ef-5050-4db6-a1cd-6fd55078aa0f",
   "metadata": {},
   "outputs": [
    {
     "name": "stdout",
     "output_type": "stream",
     "text": [
      "\n",
      "Comparison Table:\n",
      "  Model  Accuracy  Precision    Recall   ROC-AUC\n",
      "0   KNN  0.740196   0.711538  0.762887  0.790442\n",
      "1   ANN  0.740196   0.734043  0.711340  0.817612\n",
      "2   SVM  0.750000   0.712963  0.793814  0.841170\n"
     ]
    },
    {
     "data": {
      "image/png": "[encoded data removed]",
      "text/plain": [
       "<Figure size 1000x600 with 1 Axes>"
      ]
     },
     "metadata": {},
     "output_type": "display_data"
    }
   ],
   "source": [
    "# Compare the models using a table (Accuracy, Precision, and Recall)\n",
    "def compare_models():\n",
    "    results = []\n",
    "    for model, name in [(KNeighborsClassifier(), \"KNN\"), (MLPClassifier(max_iter=2000, random_state=2), \"ANN\"), (SVC(probability=True), \"SVM\")]:\n",
    "        model = joblib.load(f'{name}.pkl')  # Load the trained model\n",
    "        y_pred = model.predict(X_test)\n",
    "        y_prob = model.predict_proba(X_test)[:, 1]\n",
    "        accuracy = accuracy_score(y_test, y_pred)\n",
    "        precision = precision_score(y_test, y_pred)\n",
    "        recall = recall_score(y_test, y_pred)\n",
    "        roc_auc = roc_auc_score(y_test, y_prob)\n",
    "        results.append([name, accuracy, precision, recall, roc_auc])\n",
    "    results_df = pd.DataFrame(results, columns=['Model', 'Accuracy', 'Precision', 'Recall', 'ROC-AUC'])\n",
    "    print(\"\\nComparison Table:\")\n",
    "    print(results_df)\n",
    "    results_df.set_index('Model').plot(kind='bar', figsize=(10,6))\n",
    "    plt.title('Model Comparison (Accuracy, Precision, Recall, ROC-AUC)')\n",
    "    plt.ylabel('Scores')\n",
    "    plt.show()\n",
    "\n",
    "compare_models()"
   ]
  },
  {
   "cell_type": "markdown",
   "id": "4c0e7e03-53d9-4950-bbcb-19b62bb6a7a2",
   "metadata": {},
   "source": [
    "Deployment (latest)"
   ]
  },
  {
   "cell_type": "code",
   "execution_count": 260,
   "id": "ce648915-00a5-4005-9d12-fc56a66de712",
   "metadata": {},
   "outputs": [],
   "source": [
    "import streamlit as st\n",
    "import pandas as pd\n",
    "import numpy as np\n",
    "from joblib import load\n",
    "\n",
    "# Load the models and preprocessing steps\n",
    "heart_failure_model = load('heart_failure_model.joblib')\n",
    "\n",
    "# Extract models and preprocessing steps\n",
    "knn = heart_failure_model['knn']\n",
    "ann = heart_failure_model['ann']\n",
    "svm = heart_failure_model['svm']\n",
    "scaler = heart_failure_model['scaler']\n",
    "label_encoder = heart_failure_model['label_encoder']\n",
    "\n",
    "# Create user input fields\n",
    "st.title('Heart Disease Prediction')\n",
    "st.write(\"Enter the details below to predict the likelihood of heart disease.\")\n",
    "\n",
    "age = st.number_input('Enter age:', min_value=0, max_value=120, step=1)\n",
    "resting_bp = st.number_input('Resting Blood Pressure:', min_value=0, step=1)\n",
    "cholesterol = st.number_input('Cholesterol Level:', min_value=0, step=1)\n",
    "max_hr = st.number_input('Maximum Heart Rate:', min_value=0, step=1)\n",
    "resting_ecg = st.selectbox('Resting ECG:', ['Normal', 'ST', 'LVH'])\n",
    "\n",
    "# Create DataFrame for input\n",
    "input_df = pd.DataFrame({\n",
    "    'Age': [age],\n",
    "    'RestingBP': [resting_bp],\n",
    "    'Cholesterol': [cholesterol],\n",
    "    'MaxHR': [max_hr],\n",
    "    'RestingECG': [resting_ecg]\n",
    "})\n",
    "\n",
    "# Handle unknown labels\n",
    "if resting_ecg not in label_encoder.classes_:\n",
    "    st.error(f\"Unknown value '{resting_ecg}' for RestingECG. Please select from {label_encoder.classes_}.\")\n",
    "else:\n",
    "    # Transform and scale input data\n",
    "    input_df['RestingECG'] = label_encoder.transform(input_df['RestingECG'])\n",
    "    input_df_scaled = scaler.transform(input_df)\n",
    "\n",
    "    # Function to make predictions for the unseen data\n",
    "    def predict_unseen_data(models, input_data):\n",
    "        st.write(\"### Prediction Results\")\n",
    "\n",
    "        for model, model_name in models:\n",
    "            try:\n",
    "                y_pred = model.predict(input_data)\n",
    "                y_prob = model.predict_proba(input_data)[:, 1] if hasattr(model, 'predict_proba') else None\n",
    "                heart_failure = \"Yes\" if y_pred[0] == 1 else \"No\"\n",
    "                \n",
    "                # Format results\n",
    "                st.write(f\"### {model_name} Results:\")\n",
    "                st.write(f\"Age Entered: {age}\")\n",
    "                if y_prob is not None:\n",
    "                    # Ensure y_prob is a scalar for formatting\n",
    "                    prob_value = y_prob[0] if isinstance(y_prob, (list, np.ndarray)) else y_prob\n",
    "                    st.write(f\"Probability of Heart Disease: {prob_value * 100:.2f}%\")\n",
    "                else:\n",
    "                    st.write(\"Probability information not available\")\n",
    "                st.write(f\"Heart Failure: {heart_failure}\")\n",
    "            except Exception as e:\n",
    "                st.error(f\"Error with {model_name} model: {e}\")\n",
    "\n",
    "    # Define models list for prediction\n",
    "    models = [\n",
    "        (knn, \"KNN\"),\n",
    "        (ann, \"ANN\"),\n",
    "        (svm, \"SVM\")\n",
    "    ]\n",
    "\n",
    "    # Call the function to predict\n",
    "    if st.button('Predict Heart Disease Probability'):\n",
    "        predict_unseen_data(models, input_df_scaled)\n"
   ]
  },
  {
   "cell_type": "code",
   "execution_count": null,
   "id": "10f67d94-3cee-4a27-ae23-e5c93bd2fd56",
   "metadata": {},
   "outputs": [],
   "source": []
  },
  {
   "cell_type": "code",
   "execution_count": null,
   "id": "a940d4e2-17db-45b1-9e8b-1c3087fb58a1",
   "metadata": {},
   "outputs": [],
   "source": []
  },
  {
   "cell_type": "code",
   "execution_count": null,
   "id": "f15e2f8b-310f-4f18-907c-87e9bc7127f0",
   "metadata": {},
   "outputs": [],
   "source": []
  }
 ],
 "metadata": {
  "kernelspec": {
   "display_name": "Python 3 (ipykernel)",
   "language": "python",
   "name": "python3"
  },
  "language_info": {
   "codemirror_mode": {
    "name": "ipython",
    "version": 3
   },
   "file_extension": ".py",
   "mimetype": "text/x-python",
   "name": "python",
   "nbconvert_exporter": "python",
   "pygments_lexer": "ipython3",
   "version": "3.12.4"
  }
 },
 "nbformat": 4,
 "nbformat_minor": 5
}
